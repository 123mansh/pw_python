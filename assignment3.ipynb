{
 "cells": [
  {
   "cell_type": "markdown",
   "id": "52859c9c-102d-4995-96f5-0266ecc8c019",
   "metadata": {},
   "source": [
    "### Ques.1\n",
    "### Python keywords are special reserved words that have specific meanings and purposes and can't be used for anything but those specific purposes. "
   ]
  },
  {
   "cell_type": "code",
   "execution_count": 2,
   "id": "60c18ceb-df65-429b-a621-c143a72a2ae0",
   "metadata": {},
   "outputs": [
    {
     "name": "stdout",
     "output_type": "stream",
     "text": [
      "1\n",
      "2\n",
      "3\n",
      "4\n"
     ]
    }
   ],
   "source": [
    "for x in range(1,5):\n",
    "    print(x)"
   ]
  },
  {
   "cell_type": "code",
   "execution_count": 4,
   "id": "12ac89a4-df43-426d-bd0b-6d70deb59453",
   "metadata": {},
   "outputs": [
    {
     "name": "stdout",
     "output_type": "stream",
     "text": [
      "hello\n"
     ]
    }
   ],
   "source": [
    "x=4\n",
    "if x>3:\n",
    "    print(\"hello\")"
   ]
  },
  {
   "cell_type": "code",
   "execution_count": 5,
   "id": "9e598af0-ccbf-449f-bf6f-8d21d2287ec3",
   "metadata": {},
   "outputs": [
    {
     "name": "stdout",
     "output_type": "stream",
     "text": [
      "True\n"
     ]
    }
   ],
   "source": [
    "x=(3>1 or 4<3)\n",
    "print(x)"
   ]
  },
  {
   "cell_type": "code",
   "execution_count": 6,
   "id": "cfc7e6ab-b6f8-47ca-98a6-bfec3d5f66bb",
   "metadata": {},
   "outputs": [
    {
     "name": "stdout",
     "output_type": "stream",
     "text": [
      "False\n"
     ]
    }
   ],
   "source": [
    "x=(3>4 and 6>7)\n",
    "print(x)"
   ]
  },
  {
   "cell_type": "code",
   "execution_count": 14,
   "id": "6cba820e-cfcb-424e-a4b7-8d18bff5af6b",
   "metadata": {},
   "outputs": [
    {
     "name": "stdout",
     "output_type": "stream",
     "text": [
      "no\n"
     ]
    }
   ],
   "source": [
    "x=3\n",
    "if x>4:\n",
    "     print(\"yes\")\n",
    "else:\n",
    "        print(\"no\")\n"
   ]
  },
  {
   "cell_type": "markdown",
   "id": "857500fc-7b71-42d9-868c-3eb6a27ac67a",
   "metadata": {},
   "source": [
    "### Ques.2\n",
    "### Rules for defining identifier in python.\n",
    "### It cannot be a reserved python keyword.\n",
    "### It should not contain white space.\n",
    "### It can be a combination of A-Z, a-z, 0-9, or underscore.\n",
    "### It should start with an alphabet character or an underscore ( _ ).\n",
    "### It should not contain any special character other than an underscore ( _ )."
   ]
  },
  {
   "cell_type": "code",
   "execution_count": 21,
   "id": "3023b3ac-250b-430c-938f-6a5ca89a68cd",
   "metadata": {},
   "outputs": [
    {
     "name": "stdout",
     "output_type": "stream",
     "text": [
      "example of True, False, and, or, not keywords\n",
      "True\n",
      "True\n",
      "True\n"
     ]
    }
   ],
   "source": [
    "print(\"example of True, False, and, or, not keywords\")\n",
    "print(True and True)\n",
    "print(True or False)\n",
    "print(not False)\n"
   ]
  },
  {
   "cell_type": "markdown",
   "id": "f55657a4-d5e4-4665-8a6a-8f5e13e1f428",
   "metadata": {},
   "source": [
    "### Ques.3\n",
    "### A comment is basically a text note that gives an explanation about the source code.\n",
    "### We include comments to increase the readability of the program.\n",
    "### Python comments are simple sentences that we use to make the code easier to understand."
   ]
  },
  {
   "cell_type": "code",
   "execution_count": 2,
   "id": "ea59e0a2-1e7e-422e-846a-88b20bc2f7d5",
   "metadata": {},
   "outputs": [
    {
     "name": "stdout",
     "output_type": "stream",
     "text": [
      "hello world\n"
     ]
    }
   ],
   "source": [
    "# I am single line comment \n",
    "print(\"hello world\")"
   ]
  },
  {
   "cell_type": "markdown",
   "id": "affbf58d-ed47-48a5-baf9-8f31f463f3fc",
   "metadata": {},
   "source": [
    "### Ques.4\n",
    "### Python indentation refers to adding white space before a statement to a particular block of code.\n",
    "### Python relies on indentation to define the scope and structure of statements, loops, and functions."
   ]
  },
  {
   "cell_type": "markdown",
   "id": "fcc19843-ddfb-4a20-99e6-eda8e667cff4",
   "metadata": {},
   "source": [
    "### Ques.5\n",
    "### If any block where proper indentation is not maintained, the python compile will throw the indentation error.\n",
    "### indentation helps us implement the code using simple syntax, rather than applying brackets for every block of code, as we do in other programming languages."
   ]
  },
  {
   "cell_type": "markdown",
   "id": "7b74d5a2-3292-4845-ab10-97168da8d579",
   "metadata": {},
   "source": [
    "### Ques 6\n",
    "### An expression usually refers to a piece of code that can be evaluated to a value, and is composed of variables, operators, function calls, and literals.\n",
    "### An expression will always yield an output; it evaluates to something. "
   ]
  },
  {
   "cell_type": "code",
   "execution_count": 1,
   "id": "da49b471-4946-4d5e-89ce-1237b5e17e2b",
   "metadata": {},
   "outputs": [
    {
     "data": {
      "text/plain": [
       "8"
      ]
     },
     "execution_count": 1,
     "metadata": {},
     "output_type": "execute_result"
    }
   ],
   "source": [
    "5+3"
   ]
  },
  {
   "cell_type": "markdown",
   "id": "8f269956-f912-4fac-9356-57bc7ca81c56",
   "metadata": {},
   "source": [
    "###  A statement refers to a piece of code that executes a specific instruction or tells the computer to complete a task. \n",
    "### A statement can take the form of assignments, control statements, loop statements, jump statements, or method calls.\n"
   ]
  },
  {
   "cell_type": "code",
   "execution_count": 2,
   "id": "4c98e3a9-4c0b-4171-9afe-6560a46ef5d4",
   "metadata": {},
   "outputs": [
    {
     "name": "stdout",
     "output_type": "stream",
     "text": [
      "b is greater than a\n"
     ]
    }
   ],
   "source": [
    "a = 30\n",
    "b = 40\n",
    "if b > a:\n",
    "  print(\"b is greater than a\")"
   ]
  },
  {
   "cell_type": "code",
   "execution_count": null,
   "id": "ecc6c10f-805d-45a1-ac7f-34f2198d477c",
   "metadata": {},
   "outputs": [],
   "source": []
  }
 ],
 "metadata": {
  "kernelspec": {
   "display_name": "Python 3 (ipykernel)",
   "language": "python",
   "name": "python3"
  },
  "language_info": {
   "codemirror_mode": {
    "name": "ipython",
    "version": 3
   },
   "file_extension": ".py",
   "mimetype": "text/x-python",
   "name": "python",
   "nbconvert_exporter": "python",
   "pygments_lexer": "ipython3",
   "version": "3.10.8"
  }
 },
 "nbformat": 4,
 "nbformat_minor": 5
}
