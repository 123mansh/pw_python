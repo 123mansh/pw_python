{
 "cells": [
  {
   "cell_type": "code",
   "execution_count": 3,
   "id": "234d0c69-78b9-41e9-a7c6-df14b0a2437b",
   "metadata": {},
   "outputs": [
    {
     "name": "stdout",
     "output_type": "stream",
     "text": [
      "12\n",
      "4\n",
      "32\n",
      "2.0\n"
     ]
    }
   ],
   "source": [
    "a=8\n",
    "b=4\n",
    "print(a+b)\n",
    "print(a-b)\n",
    "print(a*b)\n",
    "print(a/b)"
   ]
  },
  {
   "cell_type": "code",
   "execution_count": 13,
   "id": "96f2a9be",
   "metadata": {},
   "outputs": [
    {
     "name": "stdout",
     "output_type": "stream",
     "text": [
      "80\n",
      "84\n",
      "76\n",
      "304\n",
      "152.0\n"
     ]
    }
   ],
   "source": [
    "a=80\n",
    "print(a)\n",
    "a+=4\n",
    "print(a)\n",
    "a-=8\n",
    "print(a)\n",
    "a*=4\n",
    "print(a)\n",
    "a/=2\n",
    "print(a)\n"
   ]
  },
  {
   "cell_type": "code",
   "execution_count": 6,
   "id": "0f5f4a24-9487-4ce3-a561-7ab9ba078912",
   "metadata": {},
   "outputs": [
    {
     "name": "stdout",
     "output_type": "stream",
     "text": [
      "not equal\n"
     ]
    }
   ],
   "source": [
    "a=6\n",
    "b=7\n",
    "if(a==b):\n",
    "    print(\"both are equal\")\n",
    "else:\n",
    "    print(\"not equal\")"
   ]
  },
  {
   "cell_type": "code",
   "execution_count": 17,
   "id": "dd09d530-d725-4091-b88f-1845015e94b2",
   "metadata": {},
   "outputs": [
    {
     "name": "stdout",
     "output_type": "stream",
     "text": [
      "one number is smaller than 40\n"
     ]
    }
   ],
   "source": [
    "a=60\n",
    "b=10\n",
    "if a>40 and b>40:\n",
    "   print(\"both the number are greter than 40\")\n",
    "else:\n",
    "    print(\"one number is smaller than 40\")    "
   ]
  },
  {
   "cell_type": "code",
   "execution_count": 19,
   "id": "571069ff-0b19-4a19-b628-f953d7c0feda",
   "metadata": {},
   "outputs": [
    {
     "name": "stdout",
     "output_type": "stream",
     "text": [
      "either of the number is greater than 50\n"
     ]
    }
   ],
   "source": [
    "a=60\n",
    "b=40\n",
    "if a>50 or b>50:\n",
    "     print(\"either of the number is greater than 50\")\n",
    "else:\n",
    " print(\"no number is greater than 50\")\n",
    "    "
   ]
  },
  {
   "cell_type": "code",
   "execution_count": 20,
   "id": "312b60ae-0034-46f6-aa94-b0cc075781b6",
   "metadata": {},
   "outputs": [
    {
     "name": "stdout",
     "output_type": "stream",
     "text": [
      "none of them is greater than 10\n"
     ]
    }
   ],
   "source": [
    "a=80\n",
    "b=90\n",
    "if not(a>10 and b>10):\n",
    "  print( \"both a and b are greater than 10\")\n",
    "else:\n",
    "    print(\"none of them is greater than 10\")\n",
    "\n"
   ]
  },
  {
   "cell_type": "code",
   "execution_count": 22,
   "id": "b8c9b3cd-b8eb-41f9-8c14-965dd101cd76",
   "metadata": {},
   "outputs": [
    {
     "name": "stdout",
     "output_type": "stream",
     "text": [
      "True\n",
      "True\n"
     ]
    }
   ],
   "source": [
    "a=\"pyhton\"\n",
    "b=a\n",
    "c=\"java\"\n",
    "print(a is b)\n",
    "print(a is not c)"
   ]
  },
  {
   "cell_type": "code",
   "execution_count": 30,
   "id": "1a01db65-70c9-4498-899c-ca6e0a59e25a",
   "metadata": {},
   "outputs": [
    {
     "name": "stdout",
     "output_type": "stream",
     "text": [
      "0\n",
      "60\n",
      "-21\n",
      "60\n",
      "160\n",
      "10\n"
     ]
    }
   ],
   "source": [
    "a=20\n",
    "b=40\n",
    "print(a&b)\n",
    "print(a|b)\n",
    "print(~a)\n",
    "print(a^b)\n",
    "print(a<<3)\n",
    "print(b>>2)"
   ]
  },
  {
   "cell_type": "code",
   "execution_count": 31,
   "id": "33d67829-9286-4572-92ec-cbda8aabe3ff",
   "metadata": {},
   "outputs": [
    {
     "name": "stdout",
     "output_type": "stream",
     "text": [
      "unary minus:  9\n",
      "unary plus:  -9\n"
     ]
    }
   ],
   "source": [
    "b=-9\n",
    "print(\"unary minus: \",-b)\n",
    "print(\"unary plus: \",+b)"
   ]
  },
  {
   "cell_type": "code",
   "execution_count": 33,
   "id": "92e5704d-2f45-473b-bafe-31ffa1a540b5",
   "metadata": {},
   "outputs": [
    {
     "name": "stdout",
     "output_type": "stream",
     "text": [
      "90\n"
     ]
    }
   ],
   "source": [
    "x=90 \n",
    "y=50\n",
    "result=x if x>y else y\n",
    "print(result)"
   ]
  }
 ],
 "metadata": {
  "kernelspec": {
   "display_name": "Python 3 (ipykernel)",
   "language": "python",
   "name": "python3"
  },
  "language_info": {
   "codemirror_mode": {
    "name": "ipython",
    "version": 3
   },
   "file_extension": ".py",
   "mimetype": "text/x-python",
   "name": "python",
   "nbconvert_exporter": "python",
   "pygments_lexer": "ipython3",
   "version": "3.10.8"
  }
 },
 "nbformat": 4,
 "nbformat_minor": 5
}
